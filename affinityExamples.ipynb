{
 "cells": [
  {
   "cell_type": "code",
   "execution_count": 1,
   "metadata": {},
   "outputs": [],
   "source": [
    "# General Purpose\n",
    "import numpy as np\n",
    "from matplotlib import pyplot as plt\n",
    "from scipy.integrate import odeint\n",
    "from scipy.integrate import ode\n",
    "from scipy import special, integrate\n",
    "from math import erf\n",
    "\n",
    "# Jupyter Specifics\n",
    "from IPython.display import HTML\n",
    "from ipywidgets.widgets import interact, IntSlider, FloatSlider, Layout, interact_manual\n",
    "\n",
    "%matplotlib inline\n",
    "\n",
    "style = {'description_width': '150px'}\n",
    "slider_layout = Layout(width='99%')"
   ]
  },
  {
   "cell_type": "code",
   "execution_count": 2,
   "metadata": {},
   "outputs": [],
   "source": [
    "def dispcalc_ON(time, Lt, Rt, Q, D, timeSplit):\n",
    "    \n",
    "    U = 2*Q/3.14159/Rt**2\n",
    "    k = Rt**2*U**2/192/D\n",
    "    if time < timeSplit:\n",
    "        CONC = 0.5 - 0.5*special.erf(0.5*(Lt - U/2*time)*k**(-0.5)*pow(time,-0.5))\n",
    "    else:\n",
    "        ### here we need to shift the time range to start from 0 (time - timeSplit), and also change the equation\n",
    "        ### describing the dispersion (- changes to a +)\n",
    "        tt = time - timeSplit\n",
    "        CONC = 0.5 + 0.5*special.erf(0.5*(Lt - U/2*tt)*k**(-0.5)*pow(tt,-0.5))\n",
    "    return CONC"
   ]
  },
  {
   "cell_type": "code",
   "execution_count": 4,
   "metadata": {},
   "outputs": [
    {
     "data": {
      "application/vnd.jupyter.widget-view+json": {
       "model_id": "d526cfba446446deb27e168e01146821",
       "version_major": 2,
       "version_minor": 0
      },
      "text/plain": [
       "interactive(children=(FloatSlider(value=40.0, description='Concentration (nM)', layout=Layout(width='99%'), mi…"
      ]
     },
     "metadata": {},
     "output_type": "display_data"
    }
   ],
   "source": [
    "def main(C, K1, K2, Bo, timeMax, Lt, Rt, Q, D, timeSplit):\n",
    "    \n",
    "    \n",
    "    Cr = C*1e-14 ### Cr [=] mol/mm3        C [=] nM\n",
    "    K1r = K1*1e6 ### K1r[=] mm3/mol/s     K1 [=] 1/M/s\n",
    "    Bor = Bo*1e-14 ### Bor [=] mol/mm2    Bo [=] ng/cm2\n",
    "    \n",
    "\n",
    "    def function(AB, time):\n",
    "        CONC = Cr*dispcalc_ON(time, Lt, Rt, Q, D, timeSplit)\n",
    "        return CONC*K1r*(Bor - AB) - K2*AB\n",
    "     \n",
    "\n",
    "    Kd = K2/K1r\n",
    "    time = np.linspace(1, timeMax, 3600)\n",
    "\n",
    "    ### working odeint, but gives strange results sometimes\n",
    "    solution = odeint(function, 0, time, rtol = 1e-20, atol = 1e-20)\n",
    "    \n",
    "\n",
    "\n",
    "    #Graphic details\n",
    "    fig, ax = plt.subplots(figsize=(15, 10))\n",
    "\n",
    "    ax.plot(time, solution/Bor, 'k.', label='signal')\n",
    "   \n",
    "    FracMax = (Cr)/(Cr + Kd)\n",
    "    \n",
    "\n",
    "    ax.set_xlim([0, timeMax])\n",
    "#     ax.set_ylim([0, 1])\n",
    "    ax.set_xlabel('Time (s)')\n",
    "    ax.set_ylabel('Fractional Coverage')\n",
    "    ax.legend(loc='best')\n",
    "    ax.grid()\n",
    "\n",
    "    plt.show()\n",
    "\n",
    "\n",
    "interact(main, C = FloatSlider(min=0.01, max=100, step=0.05, value=40, description='Concentration (nM)', style=style, layout=slider_layout),\n",
    "               K1 = FloatSlider(min=1000, max=1e6, step=2000, value=3e4, description='K1 (1/M/s)', style=style, layout=slider_layout),\n",
    "               K2 = FloatSlider(min=1e-4, max=1e-2, step=1e-4, value=1e-3, description='K2 (1/s)', style=style, layout=slider_layout),\n",
    "               Bo = FloatSlider(min=0.05, max=10, step=0.5, value=1, description='Bo (ng/cm2)', style=style, layout=slider_layout),\n",
    "               timeMax = IntSlider(min=100, max=3600, step=5, value=3600, description='MaxTime', style=style, layout=slider_layout),\n",
    "               Lt = 200,\n",
    "               Rt = 0.29,\n",
    "               Q = 20/60,\n",
    "               D = 7e-5,\n",
    "               timeSplit = 1000\n",
    "        );"
   ]
  },
  {
   "cell_type": "code",
   "execution_count": 5,
   "metadata": {},
   "outputs": [],
   "source": []
  }
 ],
 "metadata": {
  "kernelspec": {
   "display_name": "Python 3",
   "language": "python",
   "name": "python3"
  },
  "language_info": {
   "codemirror_mode": {
    "name": "ipython",
    "version": 3
   },
   "file_extension": ".py",
   "mimetype": "text/x-python",
   "name": "python",
   "nbconvert_exporter": "python",
   "pygments_lexer": "ipython3",
   "version": "3.8.3"
  }
 },
 "nbformat": 4,
 "nbformat_minor": 4
}
