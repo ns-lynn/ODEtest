{
 "cells": [
  {
   "cell_type": "code",
   "execution_count": 1,
   "metadata": {},
   "outputs": [],
   "source": [
    "# General Purpose\n",
    "import numpy as np\n",
    "from matplotlib import pyplot as plt\n",
    "from scipy.integrate import odeint\n",
    "from scipy.integrate import ode\n",
    "from scipy import special, integrate\n",
    "from math import erf\n",
    "\n",
    "# Jupyter Specifics\n",
    "from IPython.display import HTML\n",
    "from ipywidgets.widgets import interact, IntSlider, FloatSlider, Layout, interact_manual\n",
    "\n",
    "%matplotlib inline\n",
    "\n",
    "style = {'description_width': '200px'}\n",
    "slider_layout = Layout(width='50%')"
   ]
  },
  {
   "cell_type": "code",
   "execution_count": 2,
   "metadata": {},
   "outputs": [],
   "source": [
    "#### This function calculates the concentration as a function of time, and is only used with the ODE\n",
    "#### solver used in the main function\n",
    "def dispcalc_ON(time, Lt, Rt, Q, D, timeSplit):    \n",
    "    \n",
    "    Ut = 2*Q/3.14159/Rt**2\n",
    "    k = Rt**2*Ut**2/192/D\n",
    "\n",
    "    if time < timeSplit:\n",
    "        CONC = 0.5 - 0.5*special.erf(0.5*(Lt - Ut/2*time)*k**(-0.5)*pow(time,-0.5))\n",
    "    else:\n",
    "        ### here we need to shift the time range to start from 0 (time - timeSplit), and also change the equation\n",
    "        ### describing the dispersion (- changes to a +)\n",
    "        tt = time - timeSplit + 0.000001   # small number added to get rid of zero condition\n",
    "        CONC = 0.5 + 0.5*special.erf(0.5*(Lt - Ut/2*tt)*k**(-0.5)*pow(tt,-0.5))\n",
    "    return CONC"
   ]
  },
  {
   "cell_type": "code",
   "execution_count": 3,
   "metadata": {},
   "outputs": [],
   "source": [
    "#### This function calculates the concentration as a function of time, by looping over the array time\n",
    "#### I have to do this twice because I sometimes don't know how to program efficiently\n",
    "def calcCONC(time, Lt, Rt, Q, D, timeSplit):\n",
    "    CONC = np.zeros(len(time))\n",
    "    for i in range(len(time)):\n",
    "        CONC[i] = dispcalc_ON(time[i], Lt, Rt, Q, D, timeSplit)\n",
    "    return CONC\n",
    "    "
   ]
  },
  {
   "cell_type": "code",
   "execution_count": 4,
   "metadata": {},
   "outputs": [],
   "source": [
    "def main(C, K1, K2, Bo, timeMax, Lt, Rt, Q, D, timeSplit):\n",
    "    \n",
    "    \n",
    "    Cr = C*1e-14 ### Cr [=] mol/mm3        C [=] nM\n",
    "    K1r = K1*1e6 ### K1r[=] mm3/mol/s     K1 [=] 1/M/s\n",
    "    Bor = Bo*1e-14 ### Bor [=] mol/mm2    Bo [=] ng/cm2\n",
    "    \n",
    "    ### Set W and H manually for now\n",
    "    W = 14 ### [mm] width of the QCM flow cell\n",
    "    L = 14 ### [mm] length of the QCM flow cell\n",
    "    H = 0.1 ### [mm] height of the QCM flow cell\n",
    "    U = Q/H/D #### [mm/s]\n",
    "    KM = 1.47*(Q*D**2/L/H**2/W)**(1/3)\n",
    "\n",
    "    def function(AB, time):\n",
    "        CONC = Cr*dispcalc_ON(time, Lt, Rt, Q, D, timeSplit)\n",
    "        return (CONC*K1r*(Bor - AB) - K2*AB)/(1 + K1r*Bor/KM)\n",
    "     \n",
    "\n",
    "    Kd = K2/K1r\n",
    "    time = np.linspace(1, timeMax, 3600)\n",
    "    \n",
    "    \n",
    "    ### working odeint, but gives strange results sometimes\n",
    "    solution = odeint(function, 0, time, rtol = 1e-20, atol = 1e-20)\n",
    "    CC = calcCONC(time, Lt, Rt, Q, D, timeSplit)\n",
    "    FracMax = (Cr)/(Cr + Kd)\n",
    "    \n",
    "    \n",
    "    fig, (ax1, ax2) = plt.subplots(1,2,figsize=(20, 10))\n",
    "    \n",
    "    # Plot fractional coverage of AB vs. time - the solution to the ODE described by function()    \n",
    "    ax1.plot(time, solution/Bor, 'k.', label='signal')\n",
    "    ax1.set_title('Estimated signal', fontsize=20)\n",
    "    ax1.set_xlabel('Time (s)', fontsize=14)\n",
    "    ax1.set_ylabel('Fractional Coverage', fontsize=14) \n",
    "    if max(solution/Bor) > 0.1:\n",
    "        ax1.set_ylim([0,1])    \n",
    "    ax1.legend(loc='best')\n",
    "    ax1.grid()\n",
    "    \n",
    "    \n",
    "    ax2.plot(time, CC, 'r.', label = 'conc')\n",
    "    ax2.set_title('Normalized Concentration', fontsize=20)\n",
    "    ax2.set_xlabel('Time (s)', fontsize=14)\n",
    "    ax2.set_ylabel('C/Co', fontsize=14)\n",
    "    ax2.grid()\n",
    "    \n",
    "    plt.show()\n",
    "    \n",
    "    DA = K1r*Bor/KM\n",
    "    print('Damkohler Number = %.1f' % DA)\n",
    "\n"
   ]
  },
  {
   "cell_type": "code",
   "execution_count": 5,
   "metadata": {},
   "outputs": [
    {
     "data": {
      "application/vnd.jupyter.widget-view+json": {
       "model_id": "fe8dab097c2643b9a163e20f4b330199",
       "version_major": 2,
       "version_minor": 0
      },
      "text/plain": [
       "interactive(children=(FloatSlider(value=5.0, description='Concentration (nM)', layout=Layout(width='50%'), min…"
      ]
     },
     "metadata": {},
     "output_type": "display_data"
    }
   ],
   "source": [
    "interact(main, C = FloatSlider(min=0.01, max=100, step=0.05, value=5, description='Concentration (nM)', style=style, layout=slider_layout),\n",
    "               K1 = FloatSlider(min=1000, max=1e6, step=2000, value=3e4, description='K1 (1/M/s)', style=style, layout=slider_layout, readout_format='1.2e'),\n",
    "               K2 = FloatSlider(min=1e-4, max=1e-2, step=1e-4, value=1e-3, description='K2 (1/s)', style=style, layout=slider_layout, readout_format='.3e'),\n",
    "               Bo = FloatSlider(min=0.05, max=10, step=0.5, value=1, description='Bo (ng/cm2)', style=style, layout=slider_layout),\n",
    "               timeMax = IntSlider(min=100, max=3600, step=5, value=3600, description='MaxTime', style=style, layout=slider_layout),\n",
    "               Lt = FloatSlider(min=10, max = 1000, step = 10, value = 200, description='Inlet tubing length (mm)', style=style, layout=slider_layout),\n",
    "               Rt = FloatSlider(min=0.02, max = 0.5, step = 0.01, value = 0.29, description='Tubing inner radius (mm)', style=style, layout=slider_layout),\n",
    "               Q = FloatSlider(min=0.03, max = 1.7, step = 0.03, value = 0.33, description='Flow rate (mm3/s)', style=style, layout=slider_layout),\n",
    "               D = FloatSlider(min=1e-6, max = 1e-4, step = 1e-6, value = 4e-5, description='Analyte Diffusivity (mm2/s)', style=style, layout=slider_layout, readout_format='.2e'),\n",
    "               timeSplit = FloatSlider(min=10, max = 3600, step = 1, value = 1800, description='Split time (s)', style=style, layout=slider_layout),\n",
    "        );"
   ]
  },
  {
   "cell_type": "code",
   "execution_count": null,
   "metadata": {},
   "outputs": [],
   "source": []
  }
 ],
 "metadata": {
  "kernelspec": {
   "display_name": "Python 3",
   "language": "python",
   "name": "python3"
  },
  "language_info": {
   "codemirror_mode": {
    "name": "ipython",
    "version": 3
   },
   "file_extension": ".py",
   "mimetype": "text/x-python",
   "name": "python",
   "nbconvert_exporter": "python",
   "pygments_lexer": "ipython3",
   "version": "3.8.3"
  }
 },
 "nbformat": 4,
 "nbformat_minor": 4
}
